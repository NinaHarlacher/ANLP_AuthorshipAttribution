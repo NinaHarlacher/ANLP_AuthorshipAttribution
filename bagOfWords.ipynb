{
 "cells": [
  {
   "cell_type": "code",
   "execution_count": 17,
   "metadata": {},
   "outputs": [],
   "source": [
    "import sklearn as sk\n",
    "from sklearn.feature_extraction.text import CountVectorizer\n",
    "from sklearn.naive_bayes import MultinomialNB\n",
    "import numpy"
   ]
  },
  {
   "cell_type": "code",
   "execution_count": 18,
   "metadata": {},
   "outputs": [],
   "source": [
    "# Bag of words model with Naive Bayes classifier"
   ]
  },
  {
   "cell_type": "code",
   "execution_count": 19,
   "metadata": {},
   "outputs": [],
   "source": [
    "def one_author_corpus(file_paths):\n",
    "    \"\"\"\n",
    "    Merges several texts of one author into one big string.\n",
    "    \n",
    "    Input: List of file names/paths of texts to be merged (by same author)\n",
    "    \n",
    "    Output: String of merged texts\n",
    "    \"\"\"\n",
    "    author_corpus = ''\n",
    "    for path in file_paths:\n",
    "        with open(path) as open_text:\n",
    "            text = open_text.read()\n",
    "        author_corpus += text\n",
    "    return author_corpus"
   ]
  },
  {
   "cell_type": "code",
   "execution_count": 22,
   "metadata": {},
   "outputs": [],
   "source": [
    "def GV_feature_vector(corpus):\n",
    "    \"\"\"\n",
    "    Transforms a corpus into feature vectors representing counts of words.\n",
    "    \n",
    "    Input: List of documents making up the corpus\n",
    "    \n",
    "    Output: Array of word counts for each document (feature vectors)\n",
    "    \"\"\"\n",
    "    vectorizer = CountVectorizer()\n",
    "    word_count_matrix = vectorizer.fit_transform(corpus)\n",
    "    word_count_array = word_count_matrix.toarray()\n",
    "    \n",
    "    return word_count_array\n",
    "    "
   ]
  },
  {
   "cell_type": "code",
   "execution_count": 23,
   "metadata": {},
   "outputs": [],
   "source": [
    "def build_classifier(word_count_array, all_authors):\n",
    "    \"\"\"\n",
    "    Builds a classifier from provided feature vectors.\n",
    "    \n",
    "    Input: 1) Array of feature vectors for each author + the test data vector\n",
    "    2) List of all authors considered, in same order as their feature vectors\n",
    "    \n",
    "    Output: Instance of a multinomial Naive Bayes classifier trained \n",
    "    with the data excluding the test data\n",
    "    \"\"\"\n",
    "    \n",
    "    train_word_count = word_count_array[:-1]\n",
    "    \n",
    "    classifier = MultinomialNB(alpha = 0.02)\n",
    "    classifier.fit(train_word_count, all_authors)\n",
    "    \n",
    "    return classifier"
   ]
  },
  {
   "cell_type": "code",
   "execution_count": 36,
   "metadata": {},
   "outputs": [],
   "source": [
    "def test_bagofwords(corpus, all_authors):\n",
    "    \"\"\"\n",
    "    Pipeline putting all functions together.\n",
    "    \n",
    "    Input: 1) Corpus of all authors considered including the test text as last sample\n",
    "    2) List of all authors considered, in same order as their feature vectors\n",
    "    \n",
    "    Output: Predicted class as String\n",
    "    \"\"\"\n",
    "    \n",
    "    word_count_array = GV_feature_vector(corpus)\n",
    "\n",
    "    test_word_count = word_count_array[-1]\n",
    "    test_word_count = test_word_count.reshape(1,-1)\n",
    "\n",
    "    cla = build_classifier(word_count_array, all_authors)\n",
    "\n",
    "    return cla.predict(test_word_count)"
   ]
  },
  {
   "cell_type": "code",
   "execution_count": 37,
   "metadata": {},
   "outputs": [
    {
     "name": "stdout",
     "output_type": "stream",
     "text": [
      "['Late Shakespeare']\n"
     ]
    }
   ],
   "source": [
    "#Tiny example\n",
    "late_shkp_data = one_author_corpus(['kinglearLS.txt', \n",
    "                   'winterstaleLS.txt'])\n",
    "marlowe_data = one_author_corpus(['parisM.txt', 'edwardM.txt'])\n",
    "test_data = one_author_corpus(['macbeth.txt'])\n",
    "\n",
    "\n",
    "#Create corpus of all considered authors\n",
    "corpus = [late_shkp_data, marlowe_data, test_data]\n",
    "all_authors = ['Late Shakespeare', 'Marlowe']\n",
    "\n",
    "#Test tiny example\n",
    "#Expected: Late Shakespeare\n",
    "print(test_bagofwords(corpus, all_authors))"
   ]
  },
  {
   "cell_type": "code",
   "execution_count": 38,
   "metadata": {},
   "outputs": [
    {
     "name": "stdout",
     "output_type": "stream",
     "text": [
      "['Late Shakespeare']\n"
     ]
    }
   ],
   "source": [
    "#Test more examples\n",
    "#Expected: Early Shakespeare\n",
    "late_shkp_data = one_author_corpus(['kinglearLS.txt', \n",
    "                   'winterstaleLS.txt', 'macbeth.txt'])\n",
    "early_shkp_data = one_author_corpus(['thetamingoftheshrew.txt', 'romeoandjuliet.txt'])\n",
    "marlowe_data = one_author_corpus(['parisM.txt', 'edwardM.txt'])\n",
    "test_data = one_author_corpus(['hamlet.txt'])\n",
    "\n",
    "corpus = [late_shkp_data,early_shkp_data, marlowe_data, test_data]\n",
    "all_authors = ['Late Shakespeare', 'Early Shakespeare', 'Marlowe']\n",
    "\n",
    "print(test_bagofwords(corpus, all_authors))"
   ]
  },
  {
   "cell_type": "code",
   "execution_count": 41,
   "metadata": {},
   "outputs": [
    {
     "name": "stdout",
     "output_type": "stream",
     "text": [
      "['Early Shakespeare']\n"
     ]
    }
   ],
   "source": [
    "#Test more examples\n",
    "#Expected: Marlowe\n",
    "late_shkp_data = one_author_corpus(['kinglearLS.txt', \n",
    "                   'winterstaleLS.txt', 'macbeth.txt'])\n",
    "early_shkp_data = one_author_corpus(['thetamingoftheshrew.txt', 'romeoandjuliet.txt'])\n",
    "marlowe_data = one_author_corpus(['parisM.txt', 'edwardM.txt'])\n",
    "test_data = one_author_corpus(['thejewofmalta.txt'])\n",
    "\n",
    "corpus = [late_shkp_data,early_shkp_data, marlowe_data, test_data]\n",
    "all_authors = ['Late Shakespeare', 'Early Shakespeare', 'Marlowe']\n",
    "\n",
    "print(test_bagofwords(corpus, all_authors))"
   ]
  },
  {
   "cell_type": "code",
   "execution_count": null,
   "metadata": {},
   "outputs": [],
   "source": []
  }
 ],
 "metadata": {
  "kernelspec": {
   "display_name": "Python 3",
   "language": "python",
   "name": "python3"
  },
  "language_info": {
   "codemirror_mode": {
    "name": "ipython",
    "version": 3
   },
   "file_extension": ".py",
   "mimetype": "text/x-python",
   "name": "python",
   "nbconvert_exporter": "python",
   "pygments_lexer": "ipython3",
   "version": "3.6.6"
  }
 },
 "nbformat": 4,
 "nbformat_minor": 2
}
